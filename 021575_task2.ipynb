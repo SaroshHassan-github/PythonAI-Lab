{
 "cells": [
  {
   "cell_type": "code",
   "execution_count": 2,
   "metadata": {},
   "outputs": [],
   "source": [
    "Input = [('Al34 iiia','naveed'),('amir',' Y7* U2u zxUy '),(\"JUusiss ji6I\",\"8K12i\"),('shakeela','amiQ 2a'),('Pdju','AOo36 oaaA')]"
   ]
  },
  {
   "cell_type": "code",
   "execution_count": 36,
   "metadata": {},
   "outputs": [],
   "source": [
    "new_list=[]\n",
    "for i in range(len(Input)):\n",
    "    for j in Input:\n",
    "        for k in j:\n",
    "            s=k.replace(\" \", \"\")\n",
    "\n",
    "            new_list.append(s)\n",
    "            \n",
    "     \n",
    "            \n",
    "    "
   ]
  },
  {
   "cell_type": "code",
   "execution_count": 37,
   "metadata": {},
   "outputs": [
    {
     "data": {
      "text/plain": [
       "[('Al34 iiia', 'naveed'),\n",
       " ('amir', ' Y7* U2u zxUy '),\n",
       " ('JUusiss ji6I', '8K12i'),\n",
       " ('shakeela', 'amiQ 2a'),\n",
       " ('Pdju', 'AOo36 oaaA')]"
      ]
     },
     "execution_count": 37,
     "metadata": {},
     "output_type": "execute_result"
    }
   ],
   "source": [
    "Input"
   ]
  },
  {
   "cell_type": "code",
   "execution_count": 38,
   "metadata": {},
   "outputs": [
    {
     "data": {
      "text/plain": [
       "['Al34iiia',\n",
       " 'naveed',\n",
       " 'amir',\n",
       " 'Y7*U2uzxUy',\n",
       " 'JUusissji6I',\n",
       " '8K12i',\n",
       " 'shakeela',\n",
       " 'amiQ2a',\n",
       " 'Pdju',\n",
       " 'AOo36oaaA',\n",
       " 'Al34iiia',\n",
       " 'naveed',\n",
       " 'amir',\n",
       " 'Y7*U2uzxUy',\n",
       " 'JUusissji6I',\n",
       " '8K12i',\n",
       " 'shakeela',\n",
       " 'amiQ2a',\n",
       " 'Pdju',\n",
       " 'AOo36oaaA',\n",
       " 'Al34iiia',\n",
       " 'naveed',\n",
       " 'amir',\n",
       " 'Y7*U2uzxUy',\n",
       " 'JUusissji6I',\n",
       " '8K12i',\n",
       " 'shakeela',\n",
       " 'amiQ2a',\n",
       " 'Pdju',\n",
       " 'AOo36oaaA',\n",
       " 'Al34iiia',\n",
       " 'naveed',\n",
       " 'amir',\n",
       " 'Y7*U2uzxUy',\n",
       " 'JUusissji6I',\n",
       " '8K12i',\n",
       " 'shakeela',\n",
       " 'amiQ2a',\n",
       " 'Pdju',\n",
       " 'AOo36oaaA',\n",
       " 'Al34iiia',\n",
       " 'naveed',\n",
       " 'amir',\n",
       " 'Y7*U2uzxUy',\n",
       " 'JUusissji6I',\n",
       " '8K12i',\n",
       " 'shakeela',\n",
       " 'amiQ2a',\n",
       " 'Pdju',\n",
       " 'AOo36oaaA']"
      ]
     },
     "execution_count": 38,
     "metadata": {},
     "output_type": "execute_result"
    }
   ],
   "source": [
    "new_list"
   ]
  },
  {
   "cell_type": "code",
   "execution_count": 56,
   "metadata": {},
   "outputs": [],
   "source": [
    "def unique(list1):\n",
    "  \n",
    "    # initialize a null list\n",
    "    unique_list = []\n",
    "  \n",
    "    # traverse for all elements\n",
    "    for x in list1:\n",
    "        # check if exists in unique_list or not\n",
    "        if x not in unique_list:\n",
    "            unique_list.append(x)\n",
    "    # print list\n",
    "    return unique_list"
   ]
  },
  {
   "cell_type": "code",
   "execution_count": 57,
   "metadata": {},
   "outputs": [],
   "source": [
    "alpha_list=[]\n",
    "nonalpha_list=[]\n",
    "list_unique=unique(new_list)"
   ]
  },
  {
   "cell_type": "code",
   "execution_count": 60,
   "metadata": {},
   "outputs": [],
   "source": [
    "for i in list_unique:\n",
    "    if i.isalpha():\n",
    "        alpha_list.append(i)\n",
    "        \n",
    "        "
   ]
  },
  {
   "cell_type": "code",
   "execution_count": 61,
   "metadata": {},
   "outputs": [
    {
     "data": {
      "text/plain": [
       "['naveed', 'amir', 'shakeela', 'Pdju']"
      ]
     },
     "execution_count": 61,
     "metadata": {},
     "output_type": "execute_result"
    }
   ],
   "source": [
    "alpha_list"
   ]
  },
  {
   "cell_type": "code",
   "execution_count": null,
   "metadata": {},
   "outputs": [],
   "source": []
  }
 ],
 "metadata": {
  "kernelspec": {
   "display_name": "Python 3",
   "language": "python",
   "name": "python3"
  },
  "language_info": {
   "codemirror_mode": {
    "name": "ipython",
    "version": 3
   },
   "file_extension": ".py",
   "mimetype": "text/x-python",
   "name": "python",
   "nbconvert_exporter": "python",
   "pygments_lexer": "ipython3",
   "version": "3.7.6"
  }
 },
 "nbformat": 4,
 "nbformat_minor": 4
}
