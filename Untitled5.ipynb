{
 "cells": [
  {
   "cell_type": "code",
   "execution_count": null,
   "metadata": {},
   "outputs": [],
   "source": [
    "#XTREME Sports"
   ]
  },
  {
   "cell_type": "code",
   "execution_count": null,
   "metadata": {},
   "outputs": [],
   "source": [
    "sports=['Skydiving','Paragliding','Wingsuit Flying','Snowboarding','Parkour','Freediving']\n"
   ]
  },
  {
   "cell_type": "code",
   "execution_count": null,
   "metadata": {},
   "outputs": [],
   "source": [
    "experience={'skydiving_exp':0,'paragliding_exp':1,'wingsuit_exp':0,'snowboarding_exp':1,'parkour_exp':1,'freediving_exp':0}"
   ]
  },
  {
   "cell_type": "code",
   "execution_count": null,
   "metadata": {},
   "outputs": [],
   "source": [
    "weather=['Sunny','Rainy','Snowy','Stormy','Blizzards']\n"
   ]
  },
  {
   "cell_type": "code",
   "execution_count": 2,
   "metadata": {},
   "outputs": [],
   "source": [
    "tries={'Skydiving':0,'Paragliding':2,'Wingsuit Flying':0,'Snowboarding':3,'Parkour':2,'Freediving':0}"
   ]
  },
  {
   "cell_type": "code",
   "execution_count": null,
   "metadata": {},
   "outputs": [],
   "source": [
    "equipment={'Skydiving':0,'Paragliding':1,'Wingsuit Flying':1,'Snowboarding':1,'Parkour':1,'Freediving':0}\n"
   ]
  },
  {
   "cell_type": "code",
   "execution_count": null,
   "metadata": {},
   "outputs": [],
   "source": [
    "#there will be 2 cases: forming new experience or improving on previously explored sport"
   ]
  },
  {
   "cell_type": "code",
   "execution_count": null,
   "metadata": {},
   "outputs": [],
   "source": [
    "sport_check=input(\"Would you like to \\n1.Form new experience, or\\n2.Improve on a previous sport? \\nEnter 1 for option 1, enter 2 for option 2:\\n \")\n",
    "\n"
   ]
  },
  {
   "cell_type": "code",
   "execution_count": null,
   "metadata": {},
   "outputs": [],
   "source": []
  },
  {
   "cell_type": "code",
   "execution_count": 3,
   "metadata": {},
   "outputs": [
    {
     "data": {
      "text/plain": [
       "['Skydiving', 'Wingsuit Flying', 'Freediving']"
      ]
     },
     "execution_count": 3,
     "metadata": {},
     "output_type": "execute_result"
    }
   ],
   "source": [
    "[i for i,j in tries.items() if (j<1)]"
   ]
  },
  {
   "cell_type": "code",
   "execution_count": null,
   "metadata": {},
   "outputs": [],
   "source": []
  },
  {
   "cell_type": "code",
   "execution_count": null,
   "metadata": {},
   "outputs": [],
   "source": []
  },
  {
   "cell_type": "code",
   "execution_count": null,
   "metadata": {},
   "outputs": [],
   "source": []
  },
  {
   "cell_type": "code",
   "execution_count": null,
   "metadata": {},
   "outputs": [],
   "source": [
    "if sport_check==1:\n",
    "    i  = [i for i,j in tries.items() if (j<1)])\n",
    "    print (i)\n",
    "    new_sports=list(i.values())\n",
    "    index_weather=random.randint(0,4)\n",
    "    index_equipment=random.randint(0,2)\n",
    "    new_equipment=equipment.copy()\n",
    "    new_equipment.remove('Paragliding')\n",
    "    new_equipment.remove('Snowboarding')\n",
    "    new_equipment.remove('Parkour')\n",
    "    new_sports[index_equipment]\n",
    "    print(new_sports)\n",
    "    choice=input(\"Which one of these would you like to experience? Just enter the position!\\n\")\n",
    "    if (choice==1):\n",
    "        #new_sports[0] or Skydiving\n",
    "        print(new_sports[0])\n",
    "         if ((index_weather==0)and (index_equipment==0)):\n",
    "            print(\"Equipment required, weather stable\")\n",
    "        elif((index_weather==1)and (index_equipment==0)): \n",
    "            print (\"Equipment required, weather unstable\")\n",
    "        elif((index_weather==2)and (index_equipment==0)):\n",
    "            print(\"Equipment required, weather stable\")\n",
    "        elif(((index_weather==3)and (index_equipment==0))):\n",
    "            print(\"Equipment required, weather unstable\")\n",
    "        else:\n",
    "            print(\"Equipment required, weather unstable\")\n",
    "        elif (choice==2):\n",
    "            print(new_sports[1])\n",
    "        #new_sports[1] or Wingsuit Flying\n",
    "         if ((index_weather==0)and (index_equipment==0)):\n",
    "            print(\"Equipment present, weather stable\")if sport_check==1:\n",
    "    [i for i,j in tries.items() if (j<1)]\n",
    "    print ([i])\n",
    "    new_sports=list(i.values())\n",
    "    index_weather=random.randint(0,4)\n",
    "    index_equipment=random.randint(0,2)\n",
    "    new_equipment=equipment.copy()\n",
    "    new_equipment.remove('Paragliding')\n",
    "    new_equipment.remove('Snowboarding')\n",
    "    new_equipment.remove('Parkour')\n",
    "    new_sports[index_equipment]\n",
    "    print(new_sports)\n",
    "    choice=input(\"Which one of these would you like to experience? Just enter the position!\\n\")\n",
    "    if (choice==1):\n",
    "        #new_sports[0] or Skydiving\n",
    "        print(new_sports[0])\n",
    "         if ((index_weather==0)and (index_equipment==0)):\n",
    "            print(\"Equipment required, weather stable\")\n",
    "        elif((index_weather==1)and (index_equipment==0)): \n",
    "            print (\"Equipment required, weather unstable\")\n",
    "        elif((index_weather==2)and (index_equipment==0)):\n",
    "            print(\"Equipment required, weather stable\")\n",
    "        elif(((index_weather==3)and (index_equipment==0))):\n",
    "            print(\"Equipment required, weather unstable\")\n",
    "        else:\n",
    "            print(\"Equipment required, weather unstable\")\n",
    "        elif (choice==2):\n",
    "            print(new_sports[1])\n",
    "        #new_sports[1] or Wingsuit Flying\n",
    "         if ((index_weather==0)and (index_equipment==0)):\n",
    "            print(\"Equipment present, weather stable\")\n",
    "        elif((index_weather==1)and (index_equipment==0)): \n",
    "            print (\"Equipment present, weather unstable\")\n",
    "        elif((index_weather==2)and (index_equipment==0)):\n",
    "            print(\"Equipment present, weather unstable\")\n",
    "        elif(((index_weather==3)and (index_equipment==0))):\n",
    "            print(\"Equipment present, weather unstable\")\n",
    "        else:\n",
    "            print(\"Equipment present, weather unstable\")\n",
    "    else:\n",
    "        #new_sports[2] or Freediving\n",
    "        print(new_sports[2])\n",
    "         if ((index_weather==0)and (index_equipment==0)):\n",
    "            print(\"Equipment required, weather stable\")\n",
    "        elif((index_weather==1)and (index_equipment==0)): \n",
    "            print (\"Equipment required, weather stable\")\n",
    "        elif((index_weather==2)and (index_equipment==0)):\n",
    "            print(\"Equipment required, weather stable\")\n",
    "        elif(((index_weather==3)and (index_equipment==0))):\n",
    "            print(\"Equipment required, weather unstable\")\n",
    "        else:\n",
    "            print(\"Equipment required, weather unstable\")\n",
    "    \n",
    "    \n",
    "    \n",
    "        elif((index_weather==1)and (index_equipment==0)): \n",
    "            print (\"Equipment present, weather unstable\")\n",
    "        elif((index_weather==2)and (index_equipment==0)):\n",
    "            print(\"Equipment present, weather unstable\")\n",
    "        elif(((index_weather==3)and (index_equipment==0))):\n",
    "            print(\"Equipment present, weather unstable\")\n",
    "        else:\n",
    "            print(\"Equipment present, weather unstable\")\n",
    "    else:\n",
    "        #new_sports[2] or Freediving\n",
    "        print(new_sports[2])\n",
    "         if ((index_weather==0)and (index_equipment==0)):\n",
    "            print(\"Equipment required, weather stable\")\n",
    "        elif((index_weather==1)and (index_equipment==0)): \n",
    "            print (\"Equipment required, weather stable\")\n",
    "        elif((index_weather==2)and (index_equipment==0)):\n",
    "            print(\"Equipment required, weather stable\")\n",
    "        elif(((index_weather==3)and (index_equipment==0))):\n",
    "            print(\"Equipment required, weather unstable\")\n",
    "        else:\n",
    "            print(\"Equipment required, weather unstable\")\n",
    "    \n",
    "    \n",
    "    "
   ]
  },
  {
   "cell_type": "code",
   "execution_count": null,
   "metadata": {},
   "outputs": [],
   "source": [
    "if sport_check==2:\n",
    "    [k for k,v in tries.items() if v>= 1]\n",
    "    print ([k])\n",
    "    old_equipment=equipment.copy()\n",
    "    \n",
    "    old_equipment.remove('Skydiving')\n",
    "    old_equipment.remove('Wingsuit Flying')\n",
    "    old_equipment.remove('Freediving')\n",
    "    old_sports=list(k.values())\n",
    "    index_weather=random.randint(0,4)\n",
    "    index_equipment=random.randint(0,2)\n",
    "    old_sports[index_equipment]\n",
    "    print(old_sports)\n",
    "    choice=input(\"Which one of these would you like to experience again? Just enter the position!\\n\")\n",
    "    if (choice==1):\n",
    "        #old_sports[0] or Paragliding\n",
    "        print(old_sports[0])\n",
    "        if ((index_weather==0)and (index_equipment==0)):\n",
    "            print(\"Equipment required, weather stable\")\n",
    "        elif((index_weather==1)and (index_equipment==0)): \n",
    "            print (\"Equipment required, weather unstable\")\n",
    "        elif((index_weather==2)and (index_equipment==0)):\n",
    "            print(\"Equipment required, weather unstable\")\n",
    "        elif(((index_weather==3)and (index_equipment==0))):\n",
    "            print(\"Equipment required, weather unstable\")\n",
    "        else:\n",
    "            print(\"Equipment required, weather unstable\")\n",
    "            \n",
    "    elif (choice==2):\n",
    "       #old_sports[1] or Snowboarding\n",
    "        print(old_sports[1])\n",
    "        if ((index_weather==0)and (index_equipment==1)):\n",
    "            print(\"Equipment present, weather stable\")\n",
    "        elif((index_weather==1)and (index_equipment==1)): \n",
    "            print (\"Equipment present, weather stable\")\n",
    "        elif((index_weather==2)and (index_equipment==1)):\n",
    "            print(\"Equipment present, weather stable\")\n",
    "        elif(((index_weather==3)and (index_equipment==1))):\n",
    "            print(\"Equipment present, weather unstable\")\n",
    "        else:\n",
    "            print(\"Equipment present, weather unstable\")\n",
    "    else:\n",
    "        #old_sports[2] or Parkour\n",
    "        print(old_sports[2])\n",
    "        if ((index_weather==0)and (index_equipment==2)):\n",
    "            print(\"Equipment present, weather stable\")\n",
    "        elif((index_weather==1)and (index_equipment==2)): \n",
    "            print (\"Equipment present, weather unstable\")\n",
    "        elif((index_weather==2)and (index_equipment==2)):\n",
    "            print(\"Equipment present, weather unstable\")\n",
    "        elif(((index_weather==3)and (index_equipment==2))):\n",
    "            print(\"Equipment present, weather unstable\")\n",
    "        else:\n",
    "            print(\"Equipment present, weather unstable\")\n",
    "    "
   ]
  },
  {
   "cell_type": "code",
   "execution_count": null,
   "metadata": {},
   "outputs": [],
   "source": []
  },
  {
   "cell_type": "code",
   "execution_count": null,
   "metadata": {},
   "outputs": [],
   "source": []
  },
  {
   "cell_type": "code",
   "execution_count": null,
   "metadata": {},
   "outputs": [],
   "source": []
  }
 ],
 "metadata": {
  "kernelspec": {
   "display_name": "Python 3",
   "language": "python",
   "name": "python3"
  },
  "language_info": {
   "codemirror_mode": {
    "name": "ipython",
    "version": 3
   },
   "file_extension": ".py",
   "mimetype": "text/x-python",
   "name": "python",
   "nbconvert_exporter": "python",
   "pygments_lexer": "ipython3",
   "version": "3.7.6"
  }
 },
 "nbformat": 4,
 "nbformat_minor": 4
}
